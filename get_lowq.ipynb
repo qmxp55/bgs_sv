{
 "cells": [
  {
   "cell_type": "code",
   "execution_count": 69,
   "metadata": {},
   "outputs": [],
   "source": [
    "import fitsio\n",
    "import numpy as np\n",
    "import matplotlib.pyplot as plt\n",
    "import sys, os\n",
    "\n",
    "sys.path.append('/global/homes/q/qmxp55/DESI/BGS_paper/')\n",
    "from desitarget.cuts import select_targets\n",
    "from desitarget import io\n",
    "from desitarget.sv1.sv1_targetmask import desi_mask, bgs_mask, mws_mask"
   ]
  },
  {
   "cell_type": "code",
   "execution_count": 77,
   "metadata": {},
   "outputs": [],
   "source": [
    "nside = io.desitarget_nside()\n",
    "sweep_dir_dr8south = '/global/project/projectdirs/cosmo/data/legacysurvey/dr8/south/sweep/8.0'\n",
    "sweep_dir_dr8north = '/global/project/projectdirs/cosmo/data/legacysurvey/dr8/north/sweep/8.0'\n",
    "dest = '/global/cscratch1/sd/qmxp55/desitarget_output/targets-BGS-sv1-dr8_lowq_relaxed.fits'\n",
    "\n",
    "infilessouth = io.list_sweepfiles(sweep_dir_dr8south)\n",
    "infilesnorth = io.list_sweepfiles(sweep_dir_dr8north)"
   ]
  },
  {
   "cell_type": "code",
   "execution_count": 78,
   "metadata": {},
   "outputs": [],
   "source": [
    "infiles = np.concatenate((infilessouth, infilesnorth)).tolist()"
   ]
  },
  {
   "cell_type": "code",
   "execution_count": 79,
   "metadata": {},
   "outputs": [
    {
     "name": "stdout",
     "output_type": "stream",
     "text": [
      "INFO:cuts.py:2213:select_targets: Running on the sv1 survey\n"
     ]
    },
    {
     "name": "stderr",
     "output_type": "stream",
     "text": [
      "/global/homes/q/qmxp55/DESI/BGS_paper/desitarget/sv1/sv1_cuts.py:956: RuntimeWarning: invalid value encountered in less\n",
      "  bgs_qcs &= (gfracflux < 5.0) & (rfracflux < 5.0) & (zfracflux < 5.0)\n"
     ]
    },
    {
     "name": "stdout",
     "output_type": "stream",
     "text": [
      "Total run time: 40.012773 sec\n",
      "BGS_FAINT 96675\n",
      "BGS_BRIGHT 109801\n",
      "BGS_FAINT_EXT 80677\n",
      "BGS_LOWQ 30518\n",
      "BGS_FIBMAG 33010\n"
     ]
    }
   ],
   "source": [
    "#\n",
    "import time\n",
    "start = time.time()\n",
    "\n",
    "targets = select_targets(infiles[:4], mask=True, tcnames=[\"BGS\"], survey='sv1')\n",
    "bits = ['BGS_FAINT', 'BGS_BRIGHT', 'BGS_FAINT_EXT', 'BGS_LOWQ', 'BGS_FIBMAG', ]\n",
    "\n",
    "end = time.time()\n",
    "print('Total run time: %f sec' %(end - start))\n",
    "\n",
    "for bit in bits:\n",
    "    bgsbit = ((targets['SV1_BGS_TARGET'] & bgs_mask[bit]) != 0)\n",
    "    print(bit, np.sum(bgsbit))\n",
    "    "
   ]
  },
  {
   "cell_type": "code",
   "execution_count": 39,
   "metadata": {},
   "outputs": [
    {
     "name": "stdout",
     "output_type": "stream",
     "text": [
      "WARNING:io.py:437:write_targets: qso_selection method not specified for output file\n"
     ]
    },
    {
     "data": {
      "text/plain": [
       "(350681,\n",
       " '/global/cscratch1/sd/qmxp55/desitarget_output/targets-BGS-sv1-dr8.0-1_lowq_relaxed.fits')"
      ]
     },
     "execution_count": 39,
     "metadata": {},
     "output_type": "execute_result"
    }
   ],
   "source": [
    "# ADM write the targets to file.\n",
    "io.write_targets(dest, targets, survey=\"sv1\")"
   ]
  },
  {
   "cell_type": "code",
   "execution_count": 75,
   "metadata": {},
   "outputs": [
    {
     "name": "stdout",
     "output_type": "stream",
     "text": [
      "rmag min: -10.990551, rmag max: 20.999998\n"
     ]
    },
    {
     "data": {
      "image/png": "[encoded data removed]",
      "text/plain": [
       "<matplotlib.figure.Figure at 0x2aab08580470>"
      ]
     },
     "metadata": {},
     "output_type": "display_data"
    }
   ],
   "source": [
    "lowq = ((targets['SV1_BGS_TARGET'] & bgs_mask['BGS_LOWQ']) != 0)\n",
    "\n",
    "def flux_to_mag(flux):\n",
    "    mag = 22.5 - 2.5*np.log10(flux)\n",
    "    return mag\n",
    "\n",
    "rmag = flux_to_mag(targets['FLUX_R']/targets['MW_TRANSMISSION_R'])\n",
    "\n",
    "print('rmag min: %f, rmag max: %f' %(rmag[lowq].min(),rmag[lowq].max()))\n",
    "\n",
    "bins = np.linspace(15, 21, 40)\n",
    "plt.figure(figsize=(12, 6))\n",
    "plt.axvline(20.1, ls='--', c='k')\n",
    "plt.hist(rmag[lowq], bins=bins, density=True, cumulative=True)\n",
    "plt.grid()\n",
    "plt.show()"
   ]
  },
  {
   "cell_type": "code",
   "execution_count": null,
   "metadata": {},
   "outputs": [],
   "source": []
  }
 ],
 "metadata": {
  "kernelspec": {
   "display_name": "DESI 18.3",
   "language": "python",
   "name": "desi-18.3"
  },
  "language_info": {
   "codemirror_mode": {
    "name": "ipython",
    "version": 3
   },
   "file_extension": ".py",
   "mimetype": "text/x-python",
   "name": "python",
   "nbconvert_exporter": "python",
   "pygments_lexer": "ipython3",
   "version": "3.6.4"
  }
 },
 "nbformat": 4,
 "nbformat_minor": 4
}
